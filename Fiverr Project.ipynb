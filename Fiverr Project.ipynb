{
 "cells": [
  {
   "cell_type": "code",
   "execution_count": 1,
   "metadata": {
    "_cell_guid": "b1076dfc-b9ad-4769-8c92-a6c4dae69d19",
    "_uuid": "8f2839f25d086af736a60e9eeb907d3b93b6e0e5",
    "execution": {
     "iopub.execute_input": "2025-04-19T18:15:40.685971Z",
     "iopub.status.busy": "2025-04-19T18:15:40.685721Z",
     "iopub.status.idle": "2025-04-19T18:15:40.880924Z",
     "shell.execute_reply": "2025-04-19T18:15:40.880015Z",
     "shell.execute_reply.started": "2025-04-19T18:15:40.685949Z"
    },
    "trusted": true
   },
   "outputs": [],
   "source": [
    "import os\n",
    "for dirname, _, filenames in os.walk('/kaggle/input'):\n",
    "    for filename in filenames:\n",
    "        os.path.join(dirname, filename)"
   ]
  },
  {
   "cell_type": "code",
   "execution_count": 2,
   "metadata": {
    "execution": {
     "iopub.execute_input": "2025-04-19T18:15:40.882109Z",
     "iopub.status.busy": "2025-04-19T18:15:40.881772Z",
     "iopub.status.idle": "2025-04-19T18:15:53.094822Z",
     "shell.execute_reply": "2025-04-19T18:15:53.094129Z",
     "shell.execute_reply.started": "2025-04-19T18:15:40.882058Z"
    },
    "trusted": true
   },
   "outputs": [],
   "source": [
    "import torch\n",
    "import torch.nn as nn\n",
    "from torch.nn import functional as F\n",
    "import torch.optim as optim\n",
    "from torch.utils.data import Dataset, DataLoader\n",
    "from torch.optim.lr_scheduler import ReduceLROnPlateau\n",
    "from torchvision import datasets, transforms, models\n",
    "from torch.utils.data import DataLoader, TensorDataset, Dataset\n",
    "from torch.cuda.amp import autocast, GradScaler\n",
    "import pandas as pd\n",
    "import numpy as np\n",
    "from sklearn.model_selection import train_test_split\n",
    "import seaborn as sns\n",
    "from sklearn.metrics import confusion_matrix\n",
    "import matplotlib.pyplot as plt\n",
    "from tqdm import tqdm\n",
    "from PIL import Image\n",
    "import random\n",
    "import glob\n",
    "import cv2\n",
    "import os\n",
    "from torchvision.models.video import r3d_18\n",
    "import torchvision\n",
    "import ast  "
   ]
  },
  {
   "cell_type": "code",
   "execution_count": 3,
   "metadata": {
    "execution": {
     "iopub.execute_input": "2025-04-19T18:15:53.095916Z",
     "iopub.status.busy": "2025-04-19T18:15:53.095553Z",
     "iopub.status.idle": "2025-04-19T18:15:53.161460Z",
     "shell.execute_reply": "2025-04-19T18:15:53.160558Z",
     "shell.execute_reply.started": "2025-04-19T18:15:53.095894Z"
    },
    "trusted": true
   },
   "outputs": [],
   "source": [
    "def extract_frames(video_path, output_folder, num_frames=16):\n",
    "    os.makedirs(output_folder, exist_ok=True)\n",
    "    \n",
    "    cap = cv2.VideoCapture(video_path)\n",
    "    total_frames = int(cap.get(cv2.CAP_PROP_FRAME_COUNT))\n",
    "    \n",
    "    frame_indices = [int(i * total_frames / num_frames) for i in range(num_frames)]\n",
    "    count = 0\n",
    "    \n",
    "    for i in range(total_frames):\n",
    "        ret, frame = cap.read()\n",
    "        if not ret:\n",
    "            break\n",
    "        if i in frame_indices:\n",
    "            frame_filename = os.path.join(output_folder, f\"frame_{count:04d}.jpg\")\n",
    "            cv2.imwrite(frame_filename, frame)\n",
    "            count += 1\n",
    "    \n",
    "    cap.release()\n",
    "\n",
    "extract_frames(\"dog_video.mp4\", \"output_frames\", num_frames=16)"
   ]
  },
  {
   "cell_type": "code",
   "execution_count": 4,
   "metadata": {
    "execution": {
     "iopub.execute_input": "2025-04-19T18:15:53.162898Z",
     "iopub.status.busy": "2025-04-19T18:15:53.162538Z",
     "iopub.status.idle": "2025-04-19T18:30:26.784019Z",
     "shell.execute_reply": "2025-04-19T18:30:26.783096Z",
     "shell.execute_reply.started": "2025-04-19T18:15:53.162867Z"
    },
    "trusted": true
   },
   "outputs": [],
   "source": [
    "input_folder = \"/kaggle/input/dogs-pose/data_updated\"  \n",
    "output_folder = \"frames_dataset\"\n",
    "\n",
    "for category in os.listdir(input_folder):\n",
    "    category_path = os.path.join(input_folder, category)\n",
    "    \n",
    "    if not os.path.isdir(category_path):\n",
    "        continue  \n",
    "    \n",
    "    for subcategory in os.listdir(category_path):\n",
    "        subcategory_path = os.path.join(category_path, subcategory)\n",
    "        output_subfolder = os.path.join(output_folder, category, subcategory)\n",
    "        \n",
    "        os.makedirs(output_subfolder, exist_ok=True)\n",
    "        \n",
    "        for video_file in glob.glob(os.path.join(subcategory_path, \"*.mp4\")):\n",
    "            video_name = os.path.splitext(os.path.basename(video_file))[0]\n",
    "            extract_frames(video_file, os.path.join(output_subfolder, video_name), num_frames=16)\n"
   ]
  },
  {
   "cell_type": "code",
   "execution_count": 5,
   "metadata": {
    "execution": {
     "iopub.execute_input": "2025-04-19T18:30:32.712271Z",
     "iopub.status.busy": "2025-04-19T18:30:32.711946Z",
     "iopub.status.idle": "2025-04-19T18:30:32.804344Z",
     "shell.execute_reply": "2025-04-19T18:30:32.803675Z",
     "shell.execute_reply.started": "2025-04-19T18:30:32.712247Z"
    },
    "trusted": true
   },
   "outputs": [],
   "source": [
    "import os\n",
    "import pandas as pd\n",
    "\n",
    "def create_annotation_file(frames_root=\"/kaggle/working/frames_dataset\", output_csv=\"/kaggle/working/train.csv\"):\n",
    "    data = []\n",
    "    \n",
    "    for category in os.listdir(frames_root):  \n",
    "        category_path = os.path.join(frames_root, category)\n",
    "        if not os.path.isdir(category_path):\n",
    "            continue\n",
    "        \n",
    "        for subcategory in os.listdir(category_path):  \n",
    "            subcategory_path = os.path.join(category_path, subcategory)\n",
    "            if not os.path.isdir(subcategory_path):\n",
    "                continue\n",
    "            \n",
    "            for video_folder in os.listdir(subcategory_path):  \n",
    "                video_folder_path = os.path.join(subcategory_path, video_folder)\n",
    "                frames = sorted(os.listdir(video_folder_path)) \n",
    "                frame_paths = [os.path.join(video_folder_path, frame) for frame in frames]\n",
    "                \n",
    "                if len(frame_paths) > 0:\n",
    "                    data.append([frame_paths, category])  \n",
    "\n",
    "    df = pd.DataFrame(data, columns=[\"frames\", \"label\"])\n",
    "    df.to_csv(output_csv, index=False)\n",
    "\n",
    "create_annotation_file(\"frames_dataset\", \"train.csv\")"
   ]
  },
  {
   "cell_type": "code",
   "execution_count": 6,
   "metadata": {
    "execution": {
     "iopub.execute_input": "2025-04-19T18:30:34.735509Z",
     "iopub.status.busy": "2025-04-19T18:30:34.735061Z",
     "iopub.status.idle": "2025-04-19T18:30:34.789869Z",
     "shell.execute_reply": "2025-04-19T18:30:34.789227Z",
     "shell.execute_reply.started": "2025-04-19T18:30:34.735480Z"
    },
    "trusted": true
   },
   "outputs": [],
   "source": [
    "data = pd.read_csv(\"/kaggle/working/train.csv\")\n",
    "data = data.sample(frac=1).reset_index(drop=True)"
   ]
  },
  {
   "cell_type": "code",
   "execution_count": 19,
   "metadata": {
    "execution": {
     "iopub.execute_input": "2025-04-19T18:32:27.814528Z",
     "iopub.status.busy": "2025-04-19T18:32:27.814258Z",
     "iopub.status.idle": "2025-04-19T18:32:27.819842Z",
     "shell.execute_reply": "2025-04-19T18:32:27.819020Z",
     "shell.execute_reply.started": "2025-04-19T18:32:27.814509Z"
    },
    "trusted": true
   },
   "outputs": [
    {
     "data": {
      "text/plain": [
       "array(['Standing+Sitting', 'Walking', 'Resting'], dtype=object)"
      ]
     },
     "execution_count": 19,
     "metadata": {},
     "output_type": "execute_result"
    }
   ],
   "source": [
    "data.head()"
   ]
  },
  {
   "cell_type": "code",
   "execution_count": 20,
   "metadata": {
    "execution": {
     "iopub.execute_input": "2025-04-19T18:32:38.941660Z",
     "iopub.status.busy": "2025-04-19T18:32:38.941362Z",
     "iopub.status.idle": "2025-04-19T18:32:38.946662Z",
     "shell.execute_reply": "2025-04-19T18:32:38.945686Z",
     "shell.execute_reply.started": "2025-04-19T18:32:38.941633Z"
    },
    "trusted": true
   },
   "outputs": [],
   "source": [
    "train_transforms_1 = transforms.Compose([\n",
    "    transforms.Resize((224, 224)),\n",
    "    transforms.RandomHorizontalFlip(p=0.5),\n",
    "    transforms.RandomRotation(10),\n",
    "    transforms.ColorJitter(brightness=0.2, contrast=0.2),\n",
    "    transforms.ToTensor(),\n",
    "    transforms.Normalize(mean=[0.5], std=[0.5])\n",
    "])\n",
    "\n",
    "transform = transforms.Compose([\n",
    "    transforms.Resize((224, 224)),  \n",
    "    transforms.ToTensor(),\n",
    "    transforms.Normalize(mean=[0.5], std=[0.5])\n",
    "\n",
    "])"
   ]
  },
  {
   "cell_type": "code",
   "execution_count": 21,
   "metadata": {
    "execution": {
     "iopub.execute_input": "2025-04-19T18:32:43.488045Z",
     "iopub.status.busy": "2025-04-19T18:32:43.487752Z",
     "iopub.status.idle": "2025-04-19T18:32:44.248861Z",
     "shell.execute_reply": "2025-04-19T18:32:44.248159Z",
     "shell.execute_reply.started": "2025-04-19T18:32:43.488022Z"
    },
    "trusted": true
   },
   "outputs": [
    {
     "name": "stdout",
     "output_type": "stream",
     "text": [
      "torch.Size([8, 3, 224, 224])\n",
      "tensor(2)\n"
     ]
    }
   ],
   "source": [
    "class VideoFrameDataset(Dataset):\n",
    "    def __init__(self, csv_file, transform=None, num_frames=16):\n",
    "        self.data = pd.read_csv('/kaggle/working/train.csv')\n",
    "        self.transform = transform\n",
    "        self.num_frames = num_frames\n",
    "        self.classes = sorted(self.data[\"label\"].unique())  \n",
    "        self.class_to_idx = {cls: i for i, cls in enumerate(self.classes)}\n",
    "\n",
    "    def __len__(self):\n",
    "        return len(self.data)\n",
    "\n",
    "    def __getitem__(self, idx):\n",
    "        row = self.data.iloc[idx]\n",
    "        frame_paths = ast.literal_eval(row[\"frames\"])  \n",
    "        label = self.class_to_idx[row[\"label\"]]\n",
    "\n",
    "        if len(frame_paths) >= self.num_frames:\n",
    "            selected_frames = frame_paths[::len(frame_paths) // self.num_frames][:self.num_frames]\n",
    "        else:\n",
    "            selected_frames = frame_paths + [frame_paths[-1]] * (self.num_frames - len(frame_paths))  \n",
    "\n",
    "        images = [Image.open(frame).convert(\"RGB\") for frame in selected_frames]\n",
    "        \n",
    "        if self.transform:\n",
    "            images = [self.transform(img) for img in images]\n",
    "\n",
    "        return torch.stack(images), torch.tensor(label)\n",
    "\n",
    "\n",
    "train_data, temp_data = train_test_split(data, test_size=0.25, stratify=data['label'])\n",
    "valid_data, test_data = train_test_split(temp_data, test_size=0.25)\n",
    "\n",
    "train_dataset = VideoFrameDataset(\"train.csv\", transform=train_transforms_1, num_frames=8)\n",
    "valid_dataset = VideoFrameDataset(\"valid.csv\", transform=train_transforms_1, num_frames=8)\n",
    "test_dataset = VideoFrameDataset(\"test.csv\",transform=transform, num_frames=8)\n",
    "\n",
    "frames, label = train_dataset[0]\n",
    "print(frames.shape) \n",
    "print(label)  \n"
   ]
  },
  {
   "cell_type": "code",
   "execution_count": 22,
   "metadata": {
    "execution": {
     "iopub.execute_input": "2025-04-19T18:32:46.493588Z",
     "iopub.status.busy": "2025-04-19T18:32:46.493309Z",
     "iopub.status.idle": "2025-04-19T18:32:53.697334Z",
     "shell.execute_reply": "2025-04-19T18:32:53.695609Z",
     "shell.execute_reply.started": "2025-04-19T18:32:46.493567Z"
    },
    "trusted": true
   },
   "outputs": [
    {
     "name": "stdout",
     "output_type": "stream",
     "text": [
      "torch.Size([8, 8, 3, 224, 224])\n",
      "tensor([1, 2, 0, 1, 1, 1, 1, 1])\n"
     ]
    }
   ],
   "source": [
    "train_dataloader = DataLoader(train_dataset, batch_size=8, shuffle=True, num_workers=4)\n",
    "valid_dataloader = DataLoader(valid_dataset, batch_size=8, shuffle=False, num_workers=4)\n",
    "test_dataloader = DataLoader(test_dataset, batch_size=8, shuffle=False)\n",
    "\n",
    "for batch in train_dataloader:\n",
    "    frames, labels = batch\n",
    "    print(frames.shape)  \n",
    "    print(labels)\n",
    "    break"
   ]
  },
  {
   "cell_type": "code",
   "execution_count": 23,
   "metadata": {
    "execution": {
     "iopub.execute_input": "2025-04-19T18:32:53.698969Z",
     "iopub.status.busy": "2025-04-19T18:32:53.698713Z",
     "iopub.status.idle": "2025-04-19T18:32:53.807647Z",
     "shell.execute_reply": "2025-04-19T18:32:53.806678Z",
     "shell.execute_reply.started": "2025-04-19T18:32:53.698947Z"
    },
    "trusted": true
   },
   "outputs": [],
   "source": [
    "device = torch.device(\"cuda\" if torch.cuda.is_available() else \"cpu\")"
   ]
  },
  {
   "cell_type": "code",
   "execution_count": 24,
   "metadata": {
    "execution": {
     "iopub.execute_input": "2025-04-19T18:32:53.809246Z",
     "iopub.status.busy": "2025-04-19T18:32:53.808977Z",
     "iopub.status.idle": "2025-04-19T18:32:55.085988Z",
     "shell.execute_reply": "2025-04-19T18:32:55.085000Z",
     "shell.execute_reply.started": "2025-04-19T18:32:53.809226Z"
    },
    "trusted": true
   },
   "outputs": [
    {
     "name": "stderr",
     "output_type": "stream",
     "text": [
      "/usr/local/lib/python3.10/dist-packages/torchvision/models/_utils.py:208: UserWarning: The parameter 'pretrained' is deprecated since 0.13 and may be removed in the future, please use 'weights' instead.\n",
      "  warnings.warn(\n",
      "/usr/local/lib/python3.10/dist-packages/torchvision/models/_utils.py:223: UserWarning: Arguments other than a weight enum or `None` for 'weights' are deprecated since 0.13 and may be removed in the future. The current behavior is equivalent to passing `weights=ResNet18_Weights.IMAGENET1K_V1`. You can also use `weights=ResNet18_Weights.DEFAULT` to get the most up-to-date weights.\n",
      "  warnings.warn(msg)\n",
      "Downloading: \"https://download.pytorch.org/models/resnet18-f37072fd.pth\" to /root/.cache/torch/hub/checkpoints/resnet18-f37072fd.pth\n",
      "100%|██████████| 44.7M/44.7M [00:00<00:00, 168MB/s]\n"
     ]
    }
   ],
   "source": [
    "import torch\n",
    "import torch.nn as nn\n",
    "import torchvision.models as models\n",
    "\n",
    "class CNN_LSTM(nn.Module):\n",
    "    def __init__(self, num_classes, hidden_size=256, num_layers=1):\n",
    "        super(CNN_LSTM, self).__init__()\n",
    "\n",
    "        resnet = models.resnet18(pretrained=True)\n",
    "        resnet.fc = nn.Identity()  \n",
    "        self.cnn = resnet\n",
    "\n",
    "        self.lstm = nn.LSTM(input_size=512, hidden_size=hidden_size, num_layers=num_layers, batch_first=True)\n",
    "\n",
    "        self.fc = nn.Linear(hidden_size, num_classes)\n",
    "\n",
    "    def forward(self, x):\n",
    "        batch_size, seq_len, C, H, W = x.shape\n",
    "\n",
    "        x = x.view(batch_size * seq_len, C, H, W)\n",
    "\n",
    "        x = self.cnn(x)  \n",
    "\n",
    "        x = x.view(batch_size, seq_len, -1)\n",
    "\n",
    "        x, _ = self.lstm(x)\n",
    "\n",
    "        x = x[:, -1, :]\n",
    "\n",
    "        x = self.fc(x)\n",
    "        \n",
    "        return x\n",
    "\n",
    "model = CNN_LSTM(num_classes=3).to(device)"
   ]
  },
  {
   "cell_type": "code",
   "execution_count": 25,
   "metadata": {
    "execution": {
     "iopub.execute_input": "2025-04-19T18:32:55.451645Z",
     "iopub.status.busy": "2025-04-19T18:32:55.451327Z",
     "iopub.status.idle": "2025-04-19T18:32:55.457376Z",
     "shell.execute_reply": "2025-04-19T18:32:55.456041Z",
     "shell.execute_reply.started": "2025-04-19T18:32:55.451617Z"
    },
    "trusted": true
   },
   "outputs": [],
   "source": [
    "criterion = nn.CrossEntropyLoss()\n",
    "optimizer = optim.AdamW(model.parameters(), lr=0.0001)\n",
    "scheduler = torch.optim.lr_scheduler.ReduceLROnPlateau(optimizer, 'max', patience=3, factor=0.5)"
   ]
  },
  {
   "cell_type": "code",
   "execution_count": 26,
   "metadata": {
    "execution": {
     "iopub.execute_input": "2025-04-19T18:32:56.849526Z",
     "iopub.status.busy": "2025-04-19T18:32:56.849212Z",
     "iopub.status.idle": "2025-04-19T18:32:56.853254Z",
     "shell.execute_reply": "2025-04-19T18:32:56.852335Z",
     "shell.execute_reply.started": "2025-04-19T18:32:56.849501Z"
    },
    "trusted": true
   },
   "outputs": [],
   "source": [
    "train_losses = []\n",
    "val_losses = []\n",
    "train_accuracies = []\n",
    "val_accuracies = []"
   ]
  },
  {
   "cell_type": "code",
   "execution_count": 27,
   "metadata": {
    "execution": {
     "iopub.execute_input": "2025-04-19T18:32:58.369095Z",
     "iopub.status.busy": "2025-04-19T18:32:58.368749Z",
     "iopub.status.idle": "2025-04-19T19:44:53.576421Z",
     "shell.execute_reply": "2025-04-19T19:44:53.575259Z",
     "shell.execute_reply.started": "2025-04-19T18:32:58.369045Z"
    },
    "trusted": true
   },
   "outputs": [
    {
     "name": "stderr",
     "output_type": "stream",
     "text": [
      "<ipython-input-27-87e7742173e5>:2: FutureWarning: `torch.cuda.amp.GradScaler(args...)` is deprecated. Please use `torch.amp.GradScaler('cuda', args...)` instead.\n",
      "  scaler = GradScaler()\n",
      "Epoch 1/30:   0%|          | 0/83 [00:00<?, ?it/s]<ipython-input-27-87e7742173e5>:15: FutureWarning: `torch.cuda.amp.autocast(args...)` is deprecated. Please use `torch.amp.autocast('cuda', args...)` instead.\n",
      "  with autocast():\n",
      "Epoch 1/30: 100%|██████████| 83/83 [01:13<00:00,  1.13it/s, accuracy=69.4, loss=0.805]\n",
      "<ipython-input-27-87e7742173e5>:46: FutureWarning: `torch.cuda.amp.autocast(args...)` is deprecated. Please use `torch.amp.autocast('cuda', args...)` instead.\n",
      "  with autocast():\n"
     ]
    },
    {
     "name": "stdout",
     "output_type": "stream",
     "text": [
      "Epoch 1/30: Train Loss: 0.7564, Train Acc: 69.44% | Val Loss: 0.7092, Val Acc: 71.10%\n"
     ]
    },
    {
     "name": "stderr",
     "output_type": "stream",
     "text": [
      "Epoch 2/30: 100%|██████████| 83/83 [01:12<00:00,  1.14it/s, accuracy=73.1, loss=0.583]\n"
     ]
    },
    {
     "name": "stdout",
     "output_type": "stream",
     "text": [
      "Epoch 2/30: Train Loss: 0.6516, Train Acc: 73.07% | Val Loss: 0.5671, Val Acc: 77.00%\n"
     ]
    },
    {
     "name": "stderr",
     "output_type": "stream",
     "text": [
      "Epoch 3/30: 100%|██████████| 83/83 [01:11<00:00,  1.17it/s, accuracy=77.5, loss=0.873]\n"
     ]
    },
    {
     "name": "stdout",
     "output_type": "stream",
     "text": [
      "Epoch 3/30: Train Loss: 0.5241, Train Acc: 77.46% | Val Loss: 0.4719, Val Acc: 81.09%\n"
     ]
    },
    {
     "name": "stderr",
     "output_type": "stream",
     "text": [
      "Epoch 4/30: 100%|██████████| 83/83 [01:13<00:00,  1.12it/s, accuracy=80.9, loss=0.263]\n"
     ]
    },
    {
     "name": "stdout",
     "output_type": "stream",
     "text": [
      "Epoch 4/30: Train Loss: 0.4747, Train Acc: 80.94% | Val Loss: 0.3424, Val Acc: 86.84%\n"
     ]
    },
    {
     "name": "stderr",
     "output_type": "stream",
     "text": [
      "Epoch 5/30: 100%|██████████| 83/83 [01:13<00:00,  1.13it/s, accuracy=84.7, loss=0.539] \n"
     ]
    },
    {
     "name": "stdout",
     "output_type": "stream",
     "text": [
      "Epoch 5/30: Train Loss: 0.3836, Train Acc: 84.72% | Val Loss: 0.3043, Val Acc: 88.50%\n"
     ]
    },
    {
     "name": "stderr",
     "output_type": "stream",
     "text": [
      "Epoch 6/30: 100%|██████████| 83/83 [01:14<00:00,  1.12it/s, accuracy=89.9, loss=0.164] \n"
     ]
    },
    {
     "name": "stdout",
     "output_type": "stream",
     "text": [
      "Epoch 6/30: Train Loss: 0.2643, Train Acc: 89.86% | Val Loss: 0.2224, Val Acc: 91.68%\n"
     ]
    },
    {
     "name": "stderr",
     "output_type": "stream",
     "text": [
      "Epoch 7/30: 100%|██████████| 83/83 [01:12<00:00,  1.15it/s, accuracy=90.8, loss=0.0467]\n"
     ]
    },
    {
     "name": "stdout",
     "output_type": "stream",
     "text": [
      "Epoch 7/30: Train Loss: 0.2476, Train Acc: 90.77% | Val Loss: 0.1702, Val Acc: 94.55%\n"
     ]
    },
    {
     "name": "stderr",
     "output_type": "stream",
     "text": [
      "Epoch 8/30: 100%|██████████| 83/83 [01:11<00:00,  1.16it/s, accuracy=90.6, loss=0.169] \n"
     ]
    },
    {
     "name": "stdout",
     "output_type": "stream",
     "text": [
      "Epoch 8/30: Train Loss: 0.2351, Train Acc: 90.62% | Val Loss: 0.1295, Val Acc: 95.92%\n"
     ]
    },
    {
     "name": "stderr",
     "output_type": "stream",
     "text": [
      "Epoch 9/30: 100%|██████████| 83/83 [01:12<00:00,  1.14it/s, accuracy=93.6, loss=0.36]  \n"
     ]
    },
    {
     "name": "stdout",
     "output_type": "stream",
     "text": [
      "Epoch 9/30: Train Loss: 0.1588, Train Acc: 93.65% | Val Loss: 0.1131, Val Acc: 96.22%\n"
     ]
    },
    {
     "name": "stderr",
     "output_type": "stream",
     "text": [
      "Epoch 10/30: 100%|██████████| 83/83 [01:14<00:00,  1.11it/s, accuracy=95.3, loss=0.0182]\n"
     ]
    },
    {
     "name": "stdout",
     "output_type": "stream",
     "text": [
      "Epoch 10/30: Train Loss: 0.1311, Train Acc: 95.31% | Val Loss: 0.0880, Val Acc: 96.82%\n"
     ]
    },
    {
     "name": "stderr",
     "output_type": "stream",
     "text": [
      "Epoch 11/30: 100%|██████████| 83/83 [01:12<00:00,  1.15it/s, accuracy=95.9, loss=0.663] \n"
     ]
    },
    {
     "name": "stdout",
     "output_type": "stream",
     "text": [
      "Epoch 11/30: Train Loss: 0.1159, Train Acc: 95.92% | Val Loss: 0.0798, Val Acc: 97.13%\n"
     ]
    },
    {
     "name": "stderr",
     "output_type": "stream",
     "text": [
      "Epoch 12/30: 100%|██████████| 83/83 [01:13<00:00,  1.13it/s, accuracy=95.2, loss=0.0812]\n"
     ]
    },
    {
     "name": "stdout",
     "output_type": "stream",
     "text": [
      "Epoch 12/30: Train Loss: 0.1109, Train Acc: 95.16% | Val Loss: 0.0758, Val Acc: 97.28%\n"
     ]
    },
    {
     "name": "stderr",
     "output_type": "stream",
     "text": [
      "Epoch 13/30: 100%|██████████| 83/83 [01:13<00:00,  1.13it/s, accuracy=95.5, loss=0.228]  \n"
     ]
    },
    {
     "name": "stdout",
     "output_type": "stream",
     "text": [
      "Epoch 13/30: Train Loss: 0.1102, Train Acc: 95.46% | Val Loss: 0.0681, Val Acc: 97.43%\n"
     ]
    },
    {
     "name": "stderr",
     "output_type": "stream",
     "text": [
      "Epoch 14/30: 100%|██████████| 83/83 [01:12<00:00,  1.15it/s, accuracy=97.1, loss=0.366]  \n"
     ]
    },
    {
     "name": "stdout",
     "output_type": "stream",
     "text": [
      "Epoch 14/30: Train Loss: 0.0791, Train Acc: 97.13% | Val Loss: 0.0518, Val Acc: 98.18%\n"
     ]
    },
    {
     "name": "stderr",
     "output_type": "stream",
     "text": [
      "Epoch 15/30: 100%|██████████| 83/83 [01:11<00:00,  1.17it/s, accuracy=96.8, loss=0.303]  \n"
     ]
    },
    {
     "name": "stdout",
     "output_type": "stream",
     "text": [
      "Epoch 15/30: Train Loss: 0.0714, Train Acc: 96.82% | Val Loss: 0.0562, Val Acc: 98.49%\n"
     ]
    },
    {
     "name": "stderr",
     "output_type": "stream",
     "text": [
      "Epoch 16/30: 100%|██████████| 83/83 [01:10<00:00,  1.17it/s, accuracy=97.9, loss=0.00566]\n"
     ]
    },
    {
     "name": "stdout",
     "output_type": "stream",
     "text": [
      "Epoch 16/30: Train Loss: 0.0619, Train Acc: 97.88% | Val Loss: 0.0451, Val Acc: 98.49%\n"
     ]
    },
    {
     "name": "stderr",
     "output_type": "stream",
     "text": [
      "Epoch 17/30: 100%|██████████| 83/83 [01:10<00:00,  1.17it/s, accuracy=96.7, loss=0.00535]\n"
     ]
    },
    {
     "name": "stdout",
     "output_type": "stream",
     "text": [
      "Epoch 17/30: Train Loss: 0.0748, Train Acc: 96.67% | Val Loss: 0.0447, Val Acc: 98.34%\n"
     ]
    },
    {
     "name": "stderr",
     "output_type": "stream",
     "text": [
      "Epoch 18/30: 100%|██████████| 83/83 [01:12<00:00,  1.15it/s, accuracy=98.3, loss=0.018]  \n"
     ]
    },
    {
     "name": "stdout",
     "output_type": "stream",
     "text": [
      "Epoch 18/30: Train Loss: 0.0568, Train Acc: 98.34% | Val Loss: 0.0329, Val Acc: 98.94%\n"
     ]
    },
    {
     "name": "stderr",
     "output_type": "stream",
     "text": [
      "Epoch 19/30: 100%|██████████| 83/83 [01:11<00:00,  1.16it/s, accuracy=97.7, loss=0.0208] \n"
     ]
    },
    {
     "name": "stdout",
     "output_type": "stream",
     "text": [
      "Epoch 19/30: Train Loss: 0.0603, Train Acc: 97.73% | Val Loss: 0.0391, Val Acc: 98.64%\n"
     ]
    },
    {
     "name": "stderr",
     "output_type": "stream",
     "text": [
      "Epoch 20/30: 100%|██████████| 83/83 [01:10<00:00,  1.18it/s, accuracy=97.7, loss=0.0108] \n"
     ]
    },
    {
     "name": "stdout",
     "output_type": "stream",
     "text": [
      "Epoch 20/30: Train Loss: 0.0683, Train Acc: 97.73% | Val Loss: 0.0349, Val Acc: 98.94%\n"
     ]
    },
    {
     "name": "stderr",
     "output_type": "stream",
     "text": [
      "Epoch 21/30: 100%|██████████| 83/83 [01:12<00:00,  1.14it/s, accuracy=98.3, loss=0.00785]\n"
     ]
    },
    {
     "name": "stdout",
     "output_type": "stream",
     "text": [
      "Epoch 21/30: Train Loss: 0.0488, Train Acc: 98.34% | Val Loss: 0.0371, Val Acc: 99.24%\n"
     ]
    },
    {
     "name": "stderr",
     "output_type": "stream",
     "text": [
      "Epoch 22/30: 100%|██████████| 83/83 [01:12<00:00,  1.15it/s, accuracy=97.7, loss=0.00382]\n"
     ]
    },
    {
     "name": "stdout",
     "output_type": "stream",
     "text": [
      "Epoch 22/30: Train Loss: 0.0543, Train Acc: 97.73% | Val Loss: 0.0284, Val Acc: 98.94%\n"
     ]
    },
    {
     "name": "stderr",
     "output_type": "stream",
     "text": [
      "Epoch 23/30: 100%|██████████| 83/83 [01:12<00:00,  1.15it/s, accuracy=98.5, loss=0.00944]\n"
     ]
    },
    {
     "name": "stdout",
     "output_type": "stream",
     "text": [
      "Epoch 23/30: Train Loss: 0.0439, Train Acc: 98.49% | Val Loss: 0.0317, Val Acc: 99.09%\n"
     ]
    },
    {
     "name": "stderr",
     "output_type": "stream",
     "text": [
      "Epoch 24/30: 100%|██████████| 83/83 [01:13<00:00,  1.13it/s, accuracy=98.8, loss=0.0953] \n"
     ]
    },
    {
     "name": "stdout",
     "output_type": "stream",
     "text": [
      "Epoch 24/30: Train Loss: 0.0438, Train Acc: 98.79% | Val Loss: 0.0274, Val Acc: 99.09%\n"
     ]
    },
    {
     "name": "stderr",
     "output_type": "stream",
     "text": [
      "Epoch 25/30: 100%|██████████| 83/83 [01:10<00:00,  1.18it/s, accuracy=98.5, loss=0.0088] \n"
     ]
    },
    {
     "name": "stdout",
     "output_type": "stream",
     "text": [
      "Epoch 25/30: Train Loss: 0.0482, Train Acc: 98.49% | Val Loss: 0.0266, Val Acc: 99.39%\n"
     ]
    },
    {
     "name": "stderr",
     "output_type": "stream",
     "text": [
      "Epoch 26/30: 100%|██████████| 83/83 [01:11<00:00,  1.15it/s, accuracy=98.5, loss=0.11]   \n"
     ]
    },
    {
     "name": "stdout",
     "output_type": "stream",
     "text": [
      "Epoch 26/30: Train Loss: 0.0345, Train Acc: 98.49% | Val Loss: 0.0247, Val Acc: 99.39%\n"
     ]
    },
    {
     "name": "stderr",
     "output_type": "stream",
     "text": [
      "Epoch 27/30: 100%|██████████| 83/83 [01:11<00:00,  1.17it/s, accuracy=98.5, loss=0.0202] \n"
     ]
    },
    {
     "name": "stdout",
     "output_type": "stream",
     "text": [
      "Epoch 27/30: Train Loss: 0.0389, Train Acc: 98.49% | Val Loss: 0.0270, Val Acc: 99.55%\n"
     ]
    },
    {
     "name": "stderr",
     "output_type": "stream",
     "text": [
      "Epoch 28/30: 100%|██████████| 83/83 [01:11<00:00,  1.17it/s, accuracy=98.2, loss=0.00607]\n"
     ]
    },
    {
     "name": "stdout",
     "output_type": "stream",
     "text": [
      "Epoch 28/30: Train Loss: 0.0447, Train Acc: 98.18% | Val Loss: 0.0263, Val Acc: 99.55%\n"
     ]
    },
    {
     "name": "stderr",
     "output_type": "stream",
     "text": [
      "Epoch 29/30: 100%|██████████| 83/83 [01:10<00:00,  1.17it/s, accuracy=98.2, loss=0.0203] \n"
     ]
    },
    {
     "name": "stdout",
     "output_type": "stream",
     "text": [
      "Epoch 29/30: Train Loss: 0.0392, Train Acc: 98.18% | Val Loss: 0.0256, Val Acc: 99.09%\n"
     ]
    },
    {
     "name": "stderr",
     "output_type": "stream",
     "text": [
      "Epoch 30/30: 100%|██████████| 83/83 [01:12<00:00,  1.15it/s, accuracy=98.5, loss=0.149]  \n"
     ]
    },
    {
     "name": "stdout",
     "output_type": "stream",
     "text": [
      "Epoch 30/30: Train Loss: 0.0436, Train Acc: 98.49% | Val Loss: 0.0277, Val Acc: 99.24%\n"
     ]
    }
   ],
   "source": [
    "num_epochs = 30 \n",
    "scaler = GradScaler()\n",
    "\n",
    "for epoch in range(num_epochs):\n",
    "    model.train()\n",
    "    running_loss = 0.0\n",
    "    train_correct = 0\n",
    "    train_total = 0\n",
    "\n",
    "    train_loop = tqdm(train_dataloader, desc=f'Epoch {epoch+1}/{num_epochs}')\n",
    "    for frames, labels in train_loop:\n",
    "        frames, labels = frames.to(device), labels.to(device)\n",
    "        optimizer.zero_grad()\n",
    "        \n",
    "        with autocast():\n",
    "            outputs = model(frames)\n",
    "            loss = criterion(outputs, labels)\n",
    "        \n",
    "        scaler.scale(loss).backward()\n",
    "        scaler.step(optimizer)\n",
    "        scaler.update()\n",
    "        \n",
    "        running_loss += loss.item()\n",
    "        \n",
    "        _, predicted = torch.max(outputs, 1)\n",
    "        train_total += labels.size(0)\n",
    "        train_correct += (predicted == labels).sum().item()\n",
    "        \n",
    "        train_loop.set_postfix(loss=loss.item(), accuracy=100 * train_correct / train_total)\n",
    "    \n",
    "    train_loss = running_loss / len(train_dataloader)\n",
    "    train_accuracy = 100 * train_correct / train_total\n",
    "\n",
    "    train_losses.append(train_loss)\n",
    "    train_accuracies.append(train_accuracy)\n",
    "    \n",
    "    torch.cuda.empty_cache()  \n",
    "\n",
    "    model.eval()\n",
    "    val_loss = 0.0\n",
    "    val_correct = 0\n",
    "    val_total = 0\n",
    "    with torch.no_grad():\n",
    "        for frames, labels in valid_dataloader:\n",
    "            frames, labels = frames.to(device), labels.to(device)\n",
    "            with autocast():\n",
    "                outputs = model(frames)\n",
    "                loss = criterion(outputs, labels)\n",
    "            val_loss += loss.item()\n",
    "            _, predicted = torch.max(outputs, 1)\n",
    "            val_total += labels.size(0)\n",
    "            val_correct += (predicted == labels).sum().item()\n",
    "    \n",
    "    val_loss /= len(valid_dataloader)\n",
    "    val_accuracy = 100 * val_correct / val_total\n",
    "\n",
    "    val_losses.append(val_loss)\n",
    "    val_accuracies.append(val_accuracy)\n",
    "\n",
    "    scheduler.step(val_loss)\n",
    "    lr = scheduler.get_last_lr()\n",
    "\n",
    "    print(f\"Epoch {epoch+1}/{num_epochs}: \"\n",
    "          f\"Train Loss: {train_loss:.4f}, Train Acc: {train_accuracy:.2f}% | \"\n",
    "          f\"Val Loss: {val_loss:.4f}, Val Acc: {val_accuracy:.2f}%\")"
   ]
  },
  {
   "cell_type": "code",
   "execution_count": 28,
   "metadata": {
    "execution": {
     "iopub.execute_input": "2025-04-19T19:45:14.652973Z",
     "iopub.status.busy": "2025-04-19T19:45:14.652619Z",
     "iopub.status.idle": "2025-04-19T19:45:15.096743Z",
     "shell.execute_reply": "2025-04-19T19:45:15.095838Z",
     "shell.execute_reply.started": "2025-04-19T19:45:14.652943Z"
    },
    "trusted": true
   },
   "outputs": [
    {
     "data": {
      "text/plain": [
       "Text(0.5, 1.0, 'Training and Validation Loss')"
      ]
     },
     "execution_count": 28,
     "metadata": {},
     "output_type": "execute_result"
    },
    {
     "data": {
      "image/png": "[encoded data removed]",
      "text/plain": [
       "<Figure size 1200x500 with 1 Axes>"
      ]
     },
     "metadata": {},
     "output_type": "display_data"
    }
   ],
   "source": [
    "plt.figure(figsize=(12, 5))\n",
    "plt.subplot(1, 2, 1)\n",
    "plt.plot(train_losses, label='Train Loss')\n",
    "plt.plot(val_losses, label='Validation Loss')\n",
    "plt.xlabel('Epoch')\n",
    "plt.ylabel('Loss')\n",
    "plt.legend()\n",
    "plt.title('Training and Validation Loss')"
   ]
  },
  {
   "cell_type": "code",
   "execution_count": 29,
   "metadata": {
    "execution": {
     "iopub.execute_input": "2025-04-19T19:45:17.157598Z",
     "iopub.status.busy": "2025-04-19T19:45:17.157275Z",
     "iopub.status.idle": "2025-04-19T19:45:17.349600Z",
     "shell.execute_reply": "2025-04-19T19:45:17.348736Z",
     "shell.execute_reply.started": "2025-04-19T19:45:17.157574Z"
    },
    "trusted": true
   },
   "outputs": [
    {
     "data": {
      "image/png": "[encoded data removed]",
      "text/plain": [
       "<Figure size 640x480 with 1 Axes>"
      ]
     },
     "metadata": {},
     "output_type": "display_data"
    }
   ],
   "source": [
    "plt.subplot(1, 2, 2)\n",
    "plt.plot(train_accuracies, label='Train Accuracy')\n",
    "plt.plot(val_accuracies, label='Validation Accuracy')\n",
    "plt.xlabel('Epoch')\n",
    "plt.ylabel('Accuracy (%)')\n",
    "plt.legend()\n",
    "plt.title('Training and Validation Accuracy')\n",
    "\n",
    "plt.tight_layout()\n",
    "plt.show()"
   ]
  },
  {
   "cell_type": "code",
   "execution_count": 30,
   "metadata": {
    "execution": {
     "iopub.execute_input": "2025-04-19T19:45:20.077741Z",
     "iopub.status.busy": "2025-04-19T19:45:20.077452Z",
     "iopub.status.idle": "2025-04-19T19:48:09.200595Z",
     "shell.execute_reply": "2025-04-19T19:48:09.199733Z",
     "shell.execute_reply.started": "2025-04-19T19:45:20.077719Z"
    },
    "trusted": true
   },
   "outputs": [
    {
     "name": "stdout",
     "output_type": "stream",
     "text": [
      "Test Accuracy: 98.18%\n"
     ]
    }
   ],
   "source": [
    "def evaluate(model, test_loader):\n",
    "    model.eval()  \n",
    "    all_preds = []\n",
    "    all_labels = []\n",
    "    correct = 0\n",
    "    total = 0\n",
    "\n",
    "    with torch.no_grad():  \n",
    "        for frames, labels in test_loader:\n",
    "            frames, labels = frames.to(device), labels.to(device)\n",
    "\n",
    "            outputs = model(frames)  \n",
    "            _, predicted = torch.max(outputs, 1)  \n",
    "\n",
    "            total += labels.size(0)  \n",
    "            correct += (predicted == labels).sum().item()\n",
    "\n",
    "            all_preds.append(predicted.cpu())\n",
    "            all_labels.append(labels.cpu())\n",
    "\n",
    "    accuracy = 100 * correct / total\n",
    "    return accuracy, torch.cat(all_preds), torch.cat(all_labels)\n",
    "\n",
    "accuracy, all_preds, all_labels = evaluate(model, test_dataloader)\n",
    "print(f\"Test Accuracy: {accuracy:.2f}%\")"
   ]
  },
  {
   "cell_type": "code",
   "execution_count": 32,
   "metadata": {
    "execution": {
     "iopub.execute_input": "2025-04-19T19:50:26.163478Z",
     "iopub.status.busy": "2025-04-19T19:50:26.163178Z",
     "iopub.status.idle": "2025-04-19T19:50:26.360158Z",
     "shell.execute_reply": "2025-04-19T19:50:26.359250Z",
     "shell.execute_reply.started": "2025-04-19T19:50:26.163455Z"
    },
    "trusted": true
   },
   "outputs": [
    {
     "data": {
      "image/png": "[encoded data removed]",
      "text/plain": [
       "<Figure size 800x600 with 2 Axes>"
      ]
     },
     "metadata": {},
     "output_type": "display_data"
    }
   ],
   "source": [
    "cm = confusion_matrix(all_labels, all_preds)\n",
    "plt.figure(figsize=(8, 6))\n",
    "sns.heatmap(cm, annot=True, fmt='d', cmap='Blues', xticklabels=[\"walking\", \"sitting+standing\", \"resting\"], yticklabels=[\"walking\", \"sitting+standing\", \"resting\"])\n",
    "plt.xlabel('Predicted')\n",
    "plt.ylabel('True')\n",
    "plt.title('Confusion Matrix')\n",
    "plt.show()\n"
   ]
  },
  {
   "cell_type": "code",
   "execution_count": null,
   "metadata": {
    "execution": {
     "iopub.execute_input": "2025-04-19T19:50:35.167752Z",
     "iopub.status.busy": "2025-04-19T19:50:35.167418Z",
     "iopub.status.idle": "2025-04-19T19:50:35.387261Z",
     "shell.execute_reply": "2025-04-19T19:50:35.386398Z",
     "shell.execute_reply.started": "2025-04-19T19:50:35.167726Z"
    },
    "trusted": true
   },
   "outputs": [
    {
     "name": "stdout",
     "output_type": "stream",
     "text": [
      "Модель збережена у dog_pose_model_best_advanced_5.pth\n"
     ]
    }
   ],
   "source": [
    "model_path = \"dog_pose_model_final.pth\"\n",
    "\n",
    "torch.save({\n",
    "    'model_state_dict': model.state_dict(),\n",
    "    'optimizer_state_dict': optimizer.state_dict()\n",
    "}, model_path)\n",
    "print(f\"Модель збережена у {model_path}\")"
   ]
  },
  {
   "cell_type": "code",
   "execution_count": null,
   "metadata": {
    "trusted": true
   },
   "outputs": [],
   "source": []
  },
  {
   "cell_type": "code",
   "execution_count": null,
   "metadata": {
    "trusted": true
   },
   "outputs": [],
   "source": []
  },
  {
   "cell_type": "code",
   "execution_count": null,
   "metadata": {
    "trusted": true
   },
   "outputs": [],
   "source": []
  },
  {
   "cell_type": "code",
   "execution_count": null,
   "metadata": {
    "trusted": true
   },
   "outputs": [],
   "source": []
  },
  {
   "cell_type": "code",
   "execution_count": null,
   "metadata": {
    "trusted": true
   },
   "outputs": [],
   "source": []
  },
  {
   "cell_type": "code",
   "execution_count": null,
   "metadata": {
    "trusted": true
   },
   "outputs": [],
   "source": []
  },
  {
   "cell_type": "code",
   "execution_count": null,
   "metadata": {
    "trusted": true
   },
   "outputs": [],
   "source": []
  },
  {
   "cell_type": "code",
   "execution_count": null,
   "metadata": {
    "trusted": true
   },
   "outputs": [],
   "source": []
  },
  {
   "cell_type": "code",
   "execution_count": null,
   "metadata": {
    "trusted": true
   },
   "outputs": [],
   "source": []
  }
 ],
 "metadata": {
  "kaggle": {
   "accelerator": "nvidiaTeslaT4",
   "dataSources": [
    {
     "databundleVersionId": 11921947,
     "datasetId": 6701071,
     "sourceId": 11477301,
     "sourceType": "datasetVersion"
    }
   ],
   "dockerImageVersionId": 30887,
   "isGpuEnabled": true,
   "isInternetEnabled": true,
   "language": "python",
   "sourceType": "notebook"
  },
  "kernelspec": {
   "display_name": "Python 3",
   "language": "python",
   "name": "python3"
  },
  "language_info": {
   "codemirror_mode": {
    "name": "ipython",
    "version": 3
   },
   "file_extension": ".py",
   "mimetype": "text/x-python",
   "name": "python",
   "nbconvert_exporter": "python",
   "pygments_lexer": "ipython3",
   "version": "3.10.12"
  }
 },
 "nbformat": 4,
 "nbformat_minor": 4
}
